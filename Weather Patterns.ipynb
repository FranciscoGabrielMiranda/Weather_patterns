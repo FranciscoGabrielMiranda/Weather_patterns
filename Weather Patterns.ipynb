{
 "cells": [
  {
   "cell_type": "markdown",
   "metadata": {},
   "source": [
    "# TOC:\n",
    "- [Description](#1)\n",
    "- [Loading data](#2)\n",
    "- [Data inspection](#3)  \n",
    "     - [Duplicates](#4)\n",
    "     - [Null values](#5)\n",
    "     - [24 weather stations](#6)\n",
    "     - [Unique 2 element tags (TMAX and TMIN)](#7)\n",
    "     - [Datetime series](#8)\n",
    "     - [Dtypes](#9)\n",
    "     - [Convert temperatures from tenth Celcius to Celcius](#10)\n",
    "     - [Describe variables](#11)\n",
    "- [Data preparation](#12)\n",
    "- [Plot](#13)"
   ]
  },
  {
   "cell_type": "markdown",
   "metadata": {},
   "source": [
    "# Description <a class=\"anchor\" id=\"1\"></a>\n",
    " \n",
    "Weather patterns over long periods can be clearly appreciated on plots and graphs.\n",
    "\n",
    "A dataset contains daily maximum and minimum (high-low) temperatures corresponding to 24 weather stations near Ann Arbor, Michigan, United States.\n",
    "\n",
    "A plot showing temperatures registered in 2015 breaking the previous ten year high-low records (2005-2014).\n",
    "\n",
    "The dataset comes from The National Centers for Environmental Information (NCEI).\n",
    "\n",
    "Each row in the assignment datafile corresponds to a single observation.\n",
    "\n",
    "The following variables are provided to you:\n",
    "\n",
    "* **id** : station identification code\n",
    "* **date** : date in YYYY-MM-DD format (e.g. 2012-01-24 = January 24, 2012)\n",
    "* **element** : indicator of element type\n",
    "    * TMAX : Maximum temperature (tenths of degrees C)\n",
    "    * TMIN : Minimum temperature (tenths of degrees C)\n",
    "* **value** : data value for element (tenths of degrees C)"
   ]
  },
  {
   "cell_type": "code",
   "execution_count": 1,
   "metadata": {},
   "outputs": [],
   "source": [
    "import matplotlib.pyplot as plt\n",
    "import pandas as pd\n",
    "import numpy as np\n",
    "import datetime as dt\n",
    "import warnings\n",
    "warnings.simplefilter(\"ignore\")"
   ]
  },
  {
   "cell_type": "markdown",
   "metadata": {},
   "source": [
    "# Loading data <a class=\"anchor\" id=\"2\"></a>"
   ]
  },
  {
   "cell_type": "code",
   "execution_count": 2,
   "metadata": {
    "scrolled": true
   },
   "outputs": [
    {
     "data": {
      "text/html": [
       "<div>\n",
       "<style scoped>\n",
       "    .dataframe tbody tr th:only-of-type {\n",
       "        vertical-align: middle;\n",
       "    }\n",
       "\n",
       "    .dataframe tbody tr th {\n",
       "        vertical-align: top;\n",
       "    }\n",
       "\n",
       "    .dataframe thead th {\n",
       "        text-align: right;\n",
       "    }\n",
       "</style>\n",
       "<table border=\"1\" class=\"dataframe\">\n",
       "  <thead>\n",
       "    <tr style=\"text-align: right;\">\n",
       "      <th></th>\n",
       "      <th>ID</th>\n",
       "      <th>Date</th>\n",
       "      <th>Element</th>\n",
       "      <th>Data_Value</th>\n",
       "    </tr>\n",
       "  </thead>\n",
       "  <tbody>\n",
       "    <tr>\n",
       "      <th>0</th>\n",
       "      <td>USW00094889</td>\n",
       "      <td>2014-11-12</td>\n",
       "      <td>TMAX</td>\n",
       "      <td>22</td>\n",
       "    </tr>\n",
       "    <tr>\n",
       "      <th>1</th>\n",
       "      <td>USC00208972</td>\n",
       "      <td>2009-04-29</td>\n",
       "      <td>TMIN</td>\n",
       "      <td>56</td>\n",
       "    </tr>\n",
       "    <tr>\n",
       "      <th>2</th>\n",
       "      <td>USC00200032</td>\n",
       "      <td>2008-05-26</td>\n",
       "      <td>TMAX</td>\n",
       "      <td>278</td>\n",
       "    </tr>\n",
       "    <tr>\n",
       "      <th>3</th>\n",
       "      <td>USC00205563</td>\n",
       "      <td>2005-11-11</td>\n",
       "      <td>TMAX</td>\n",
       "      <td>139</td>\n",
       "    </tr>\n",
       "    <tr>\n",
       "      <th>4</th>\n",
       "      <td>USC00200230</td>\n",
       "      <td>2014-02-27</td>\n",
       "      <td>TMAX</td>\n",
       "      <td>-106</td>\n",
       "    </tr>\n",
       "  </tbody>\n",
       "</table>\n",
       "</div>"
      ],
      "text/plain": [
       "            ID        Date Element  Data_Value\n",
       "0  USW00094889  2014-11-12    TMAX          22\n",
       "1  USC00208972  2009-04-29    TMIN          56\n",
       "2  USC00200032  2008-05-26    TMAX         278\n",
       "3  USC00205563  2005-11-11    TMAX         139\n",
       "4  USC00200230  2014-02-27    TMAX        -106"
      ]
     },
     "metadata": {},
     "output_type": "display_data"
    },
    {
     "name": "stdout",
     "output_type": "stream",
     "text": [
      "(165085, 4)\n",
      "<class 'pandas.core.frame.DataFrame'>\n",
      "RangeIndex: 165085 entries, 0 to 165084\n",
      "Data columns (total 4 columns):\n",
      " #   Column      Non-Null Count   Dtype \n",
      "---  ------      --------------   ----- \n",
      " 0   ID          165085 non-null  object\n",
      " 1   Date        165085 non-null  object\n",
      " 2   Element     165085 non-null  object\n",
      " 3   Data_Value  165085 non-null  int64 \n",
      "dtypes: int64(1), object(3)\n",
      "memory usage: 5.0+ MB\n"
     ]
    }
   ],
   "source": [
    "df = pd.read_csv('fb441e62df2d58994928907a91895ec62c2c42e6cd075c2700843b89.csv')\n",
    "display(df.head())\n",
    "print(df.shape)\n",
    "df.info()"
   ]
  },
  {
   "cell_type": "markdown",
   "metadata": {},
   "source": [
    "# Data inspection <a class=\"anchor\" id=\"3\"></a>"
   ]
  },
  {
   "cell_type": "markdown",
   "metadata": {},
   "source": [
    "## Duplicates <a class=\"anchor\" id=\"4\"></a>"
   ]
  },
  {
   "cell_type": "code",
   "execution_count": 3,
   "metadata": {},
   "outputs": [
    {
     "name": "stdout",
     "output_type": "stream",
     "text": [
      "(0, 4)\n"
     ]
    }
   ],
   "source": [
    "print(df[df.duplicated()].shape)"
   ]
  },
  {
   "cell_type": "markdown",
   "metadata": {},
   "source": [
    "## Null values <a class=\"anchor\" id=\"5\"></a>"
   ]
  },
  {
   "cell_type": "code",
   "execution_count": 4,
   "metadata": {},
   "outputs": [
    {
     "name": "stdout",
     "output_type": "stream",
     "text": [
      "False\n"
     ]
    }
   ],
   "source": [
    "print(df.isnull().values.any())"
   ]
  },
  {
   "cell_type": "markdown",
   "metadata": {},
   "source": [
    "## Unique 24 weather stations <a class=\"anchor\" id=\"6\"></a>"
   ]
  },
  {
   "cell_type": "code",
   "execution_count": 5,
   "metadata": {},
   "outputs": [
    {
     "name": "stdout",
     "output_type": "stream",
     "text": [
      "['USW00094889' 'USC00208972' 'USC00200032' 'USC00205563' 'USC00200230'\n",
      " 'USW00014833' 'USC00207308' 'USC00203712' 'USW00004848' 'USC00200220'\n",
      " 'USC00205822' 'USC00200842' 'USC00205450' 'USC00201250' 'USC00207320'\n",
      " 'USC00200228' 'USC00202308' 'USW00014853' 'USC00205050' 'USC00208202'\n",
      " 'USC00208080' 'USC00207312' 'USC00205451' 'USC00201502']\n",
      "24\n"
     ]
    }
   ],
   "source": [
    "print(df.ID.unique())\n",
    "print(len(df.ID.unique()))"
   ]
  },
  {
   "cell_type": "markdown",
   "metadata": {},
   "source": [
    "## Unique 2 element tags (TMAX and TMIN) <a class=\"anchor\" id=\"7\"></a>"
   ]
  },
  {
   "cell_type": "code",
   "execution_count": 6,
   "metadata": {},
   "outputs": [
    {
     "name": "stdout",
     "output_type": "stream",
     "text": [
      "['TMAX' 'TMIN']\n"
     ]
    }
   ],
   "source": [
    "print(df.Element.unique())"
   ]
  },
  {
   "cell_type": "markdown",
   "metadata": {},
   "source": [
    "## Datetime series <a class=\"anchor\" id=\"8\"></a>"
   ]
  },
  {
   "cell_type": "code",
   "execution_count": 7,
   "metadata": {},
   "outputs": [
    {
     "name": "stdout",
     "output_type": "stream",
     "text": [
      "(31033, 5)\n",
      "(133969, 5)\n",
      "(165002, 5)\n"
     ]
    }
   ],
   "source": [
    "#Converts dates to datetime\n",
    "df['Date']=pd.to_datetime(df['Date'])\n",
    "\n",
    "#creates a new column with day of year values\n",
    "df['Day'] = df['Date'].dt.dayofyear\n",
    "\n",
    "#drops 02-29 observations\n",
    "df = df[~((df['Date'].dt.month == 2) & (df['Date'].dt.day == 29))]\n",
    "\n",
    "#splits leap and nonleap years\n",
    "df_leap = df[df['Date'].dt.year.isin([2008,2012])]\n",
    "print(df_leap.shape)\n",
    "df_nonleap = df[~(df['Date'].dt.year.isin([2008,2012]))]\n",
    "print(df_nonleap.shape)\n",
    "\n",
    "#offests a day on leap years after 02-29\n",
    "df_leap['Day'] = df_leap['Day'].apply(lambda x: x-1 if x >=60 else x)\n",
    "\n",
    "#concatenates leap and nonloeap years\n",
    "df = pd.concat([df_leap, df_nonleap], axis = 0)\n",
    "print(df.shape)"
   ]
  },
  {
   "cell_type": "markdown",
   "metadata": {},
   "source": [
    "## Dtypes <a class=\"anchor\" id=\"9\"></a>"
   ]
  },
  {
   "cell_type": "code",
   "execution_count": 8,
   "metadata": {},
   "outputs": [
    {
     "name": "stdout",
     "output_type": "stream",
     "text": [
      "ID                    object\n",
      "Date          datetime64[ns]\n",
      "Element               object\n",
      "Data_Value             int64\n",
      "Day                    int64\n",
      "dtype: object\n"
     ]
    }
   ],
   "source": [
    "print(df.dtypes)"
   ]
  },
  {
   "cell_type": "markdown",
   "metadata": {},
   "source": [
    "## Convert temperatures from tenth Celcius to Celcius <a class=\"anchor\" id=\"10\"></a>"
   ]
  },
  {
   "cell_type": "code",
   "execution_count": 9,
   "metadata": {},
   "outputs": [],
   "source": [
    "df['Data_Value']=df['Data_Value'] * .1"
   ]
  },
  {
   "cell_type": "markdown",
   "metadata": {},
   "source": [
    "## Describe variables <a class=\"anchor\" id=\"11\"></a>"
   ]
  },
  {
   "cell_type": "code",
   "execution_count": 10,
   "metadata": {},
   "outputs": [
    {
     "data": {
      "text/html": [
       "<div>\n",
       "<style scoped>\n",
       "    .dataframe tbody tr th:only-of-type {\n",
       "        vertical-align: middle;\n",
       "    }\n",
       "\n",
       "    .dataframe tbody tr th {\n",
       "        vertical-align: top;\n",
       "    }\n",
       "\n",
       "    .dataframe thead th {\n",
       "        text-align: right;\n",
       "    }\n",
       "</style>\n",
       "<table border=\"1\" class=\"dataframe\">\n",
       "  <thead>\n",
       "    <tr style=\"text-align: right;\">\n",
       "      <th></th>\n",
       "      <th>Data_Value</th>\n",
       "      <th>Day</th>\n",
       "    </tr>\n",
       "  </thead>\n",
       "  <tbody>\n",
       "    <tr>\n",
       "      <th>count</th>\n",
       "      <td>165002.000000</td>\n",
       "      <td>165002.000000</td>\n",
       "    </tr>\n",
       "    <tr>\n",
       "      <th>mean</th>\n",
       "      <td>9.547632</td>\n",
       "      <td>183.193622</td>\n",
       "    </tr>\n",
       "    <tr>\n",
       "      <th>std</th>\n",
       "      <td>12.351344</td>\n",
       "      <td>105.337504</td>\n",
       "    </tr>\n",
       "    <tr>\n",
       "      <th>min</th>\n",
       "      <td>-34.300000</td>\n",
       "      <td>1.000000</td>\n",
       "    </tr>\n",
       "    <tr>\n",
       "      <th>25%</th>\n",
       "      <td>0.000000</td>\n",
       "      <td>92.000000</td>\n",
       "    </tr>\n",
       "    <tr>\n",
       "      <th>50%</th>\n",
       "      <td>9.400000</td>\n",
       "      <td>184.000000</td>\n",
       "    </tr>\n",
       "    <tr>\n",
       "      <th>75%</th>\n",
       "      <td>18.900000</td>\n",
       "      <td>274.000000</td>\n",
       "    </tr>\n",
       "    <tr>\n",
       "      <th>max</th>\n",
       "      <td>40.600000</td>\n",
       "      <td>365.000000</td>\n",
       "    </tr>\n",
       "  </tbody>\n",
       "</table>\n",
       "</div>"
      ],
      "text/plain": [
       "          Data_Value            Day\n",
       "count  165002.000000  165002.000000\n",
       "mean        9.547632     183.193622\n",
       "std        12.351344     105.337504\n",
       "min       -34.300000       1.000000\n",
       "25%         0.000000      92.000000\n",
       "50%         9.400000     184.000000\n",
       "75%        18.900000     274.000000\n",
       "max        40.600000     365.000000"
      ]
     },
     "metadata": {},
     "output_type": "display_data"
    },
    {
     "data": {
      "text/html": [
       "<div>\n",
       "<style scoped>\n",
       "    .dataframe tbody tr th:only-of-type {\n",
       "        vertical-align: middle;\n",
       "    }\n",
       "\n",
       "    .dataframe tbody tr th {\n",
       "        vertical-align: top;\n",
       "    }\n",
       "\n",
       "    .dataframe thead th {\n",
       "        text-align: right;\n",
       "    }\n",
       "</style>\n",
       "<table border=\"1\" class=\"dataframe\">\n",
       "  <thead>\n",
       "    <tr style=\"text-align: right;\">\n",
       "      <th></th>\n",
       "      <th>ID</th>\n",
       "      <th>Element</th>\n",
       "    </tr>\n",
       "  </thead>\n",
       "  <tbody>\n",
       "    <tr>\n",
       "      <th>count</th>\n",
       "      <td>165002</td>\n",
       "      <td>165002</td>\n",
       "    </tr>\n",
       "    <tr>\n",
       "      <th>unique</th>\n",
       "      <td>24</td>\n",
       "      <td>2</td>\n",
       "    </tr>\n",
       "    <tr>\n",
       "      <th>top</th>\n",
       "      <td>USC00200228</td>\n",
       "      <td>TMAX</td>\n",
       "    </tr>\n",
       "    <tr>\n",
       "      <th>freq</th>\n",
       "      <td>8029</td>\n",
       "      <td>83020</td>\n",
       "    </tr>\n",
       "  </tbody>\n",
       "</table>\n",
       "</div>"
      ],
      "text/plain": [
       "                 ID Element\n",
       "count        165002  165002\n",
       "unique           24       2\n",
       "top     USC00200228    TMAX\n",
       "freq           8029   83020"
      ]
     },
     "metadata": {},
     "output_type": "display_data"
    }
   ],
   "source": [
    "display(df.describe()) #Numerical dtypes\n",
    "display(df.describe(include=[object])) #Object dtypes"
   ]
  },
  {
   "cell_type": "markdown",
   "metadata": {},
   "source": [
    "# Data preparation <a class=\"anchor\" id=\"12\"></a>"
   ]
  },
  {
   "cell_type": "code",
   "execution_count": 11,
   "metadata": {},
   "outputs": [],
   "source": [
    "#Splits 2 datasets for years 2005-2014 and 2015\n",
    "df_2015 = df[df['Date'].dt.year == 2015]\n",
    "df = df[df['Date'].dt.year.between(2005,2014)]"
   ]
  },
  {
   "cell_type": "code",
   "execution_count": 12,
   "metadata": {},
   "outputs": [],
   "source": [
    "# Aggregate 10-years records in a 365 days time series\n",
    "df_max = df[df['Element']=='TMAX'].pivot_table(['Data_Value'], index=\"Day\", aggfunc=max)\n",
    "df_min = df[df['Element']=='TMIN'].pivot_table(['Data_Value'], index=\"Day\", aggfunc=min)"
   ]
  },
  {
   "cell_type": "code",
   "execution_count": 13,
   "metadata": {},
   "outputs": [],
   "source": [
    "# Aggregate 1 year records in a a 365 days time series\n",
    "df_2015_max = df_2015[df_2015['Element']=='TMAX'].pivot_table(['Data_Value'], index=\"Day\", aggfunc=max)\n",
    "df_2015_min = df_2015[df_2015['Element']=='TMIN'].pivot_table(['Data_Value'], index=\"Day\", aggfunc=min)"
   ]
  },
  {
   "cell_type": "code",
   "execution_count": 14,
   "metadata": {},
   "outputs": [],
   "source": [
    "# Find days were 10-year records are broken\n",
    "tmax = df_2015_max[df_2015_max['Data_Value'] > df_max['Data_Value']]\n",
    "tmin = df_2015_min[df_2015_min['Data_Value'] < df_min['Data_Value']]"
   ]
  },
  {
   "cell_type": "markdown",
   "metadata": {},
   "source": [
    "# Plot <a class=\"anchor\" id=\"13\"></a>"
   ]
  },
  {
   "cell_type": "code",
   "execution_count": 17,
   "metadata": {},
   "outputs": [
    {
     "data": {
      "image/png": "[encoded data removed]",
      "text/plain": [
       "<Figure size 1152x576 with 1 Axes>"
      ]
     },
     "metadata": {
      "needs_background": "light"
     },
     "output_type": "display_data"
    }
   ],
   "source": [
    "fig, ax = plt.subplots(figsize=(16,8))\n",
    "\n",
    "days = list(range(1,366))\n",
    "df_max.plot(kind = 'line', ax=ax, linewidth = 0.5, color = 'grey')\n",
    "df_min.plot(kind = 'line', ax=ax, linewidth = 0.5, color = 'grey')\n",
    "ax.fill_between(days, df_max.Data_Value, df_min.Data_Value, alpha = 0.1, color='grey')\n",
    "plt.scatter(tmax.index, tmax.Data_Value, s=15, c='red', alpha = 1, lw=0.5)\n",
    "plt.scatter(tmin.index, tmin.Data_Value, s=15, c='red', alpha = 1, lw=0.5)\n",
    "\n",
    "#ax.spines.right.set_visible(False)\n",
    "#ax.spines.top.set_visible(False)\n",
    "\n",
    "plt.xlabel('')\n",
    "plt.ylabel('Temperature C$^\\circ$', fontsize = 12)\n",
    "\n",
    "#legend settings\n",
    "from matplotlib.lines import Line2D\n",
    "legend_elements = [Line2D([0], [0], marker='o', color='w', label='2015 temperatures breaking 2004-2014 high-low records',\n",
    "                          markerfacecolor='r', markersize=12)]\n",
    "                          \n",
    "plt.legend(handles=legend_elements, loc=2, fontsize=12, frameon = False)\n",
    "\n",
    "plt.title(\"Daily high-low record temperatures [2005-2014] near Ann Arbor, Michigan, USA\", fontsize = 22, pad=10)\n",
    "plt.tick_params(top=False, bottom=False, left=False, right=False)\n",
    "\n",
    "month_starts = [15,45,75,106,136,167,197,228,259,289,320,350]\n",
    "month_names = ['Jan','Feb','Mar','Apr','May','Jun',\n",
    "               'Jul','Aug','Sep','Oct','Nov','Dec'] \n",
    "plt.gca().set_xticks(month_starts)\n",
    "plt.gca().set_xticklabels(month_names)\n",
    "\n",
    "plt.tick_params(axis='x', which='major', labelsize=13)\n",
    "plt.tick_params(axis='y', which='major', labelsize=12)\n",
    "\n",
    "plt.xlim([0, 365])\n",
    "\n",
    "plt.show();"
   ]
  },
  {
   "cell_type": "code",
   "execution_count": 38,
   "metadata": {},
   "outputs": [],
   "source": [
    "plt.savefig('plot.png', dpi=300, bbox_inches='tight')"
   ]
  }
 ],
 "metadata": {
  "kernelspec": {
   "display_name": "Python 3 (ipykernel)",
   "language": "python",
   "name": "python3"
  },
  "language_info": {
   "codemirror_mode": {
    "name": "ipython",
    "version": 3
   },
   "file_extension": ".py",
   "mimetype": "text/x-python",
   "name": "python",
   "nbconvert_exporter": "python",
   "pygments_lexer": "ipython3",
   "version": "3.9.12"
  },
  "toc-autonumbering": false,
  "toc-showcode": false,
  "toc-showmarkdowntxt": true,
  "toc-showtags": false
 },
 "nbformat": 4,
 "nbformat_minor": 4
}
